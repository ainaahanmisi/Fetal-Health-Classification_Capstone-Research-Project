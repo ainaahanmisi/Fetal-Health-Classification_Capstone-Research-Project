{
 "cells": [
  {
   "cell_type": "code",
   "execution_count": 11,
   "metadata": {},
   "outputs": [],
   "source": [
    "%config IPCompleter.greedy=True\n",
    "import findspark\n",
    "findspark.init()\n",
    "findspark.find()\n",
    "import pyspark\n",
    "\n",
    "findspark.find()\n",
    "from pyspark.sql import SparkSession\n",
    "import pandas as pd\n",
    "import numpy as np\n",
    "import matplotlib.pyplot as plt\n",
    "import seaborn as sns"
   ]
  },
  {
   "cell_type": "code",
   "execution_count": 12,
   "metadata": {},
   "outputs": [
    {
     "name": "stdout",
     "output_type": "stream",
     "text": [
      "old sc found, stopping it now\n",
      "stopped old sc\n"
     ]
    },
    {
     "data": {
      "text/plain": [
       "'3.1.1'"
      ]
     },
     "execution_count": 12,
     "metadata": {},
     "output_type": "execute_result"
    }
   ],
   "source": [
    "#get spark session, close it if it already exists, otherwise create a new one\n",
    "try:\n",
    "    if sc is None:\n",
    "        print(\"sc is not defined\")\n",
    "except Exception:\n",
    "        print(\"error found, recovering and creating spark connection\")\n",
    "else:\n",
    "        print(\"old sc found, stopping it now\")    \n",
    "        sc.stop()\n",
    "        print(\"stopped old sc\")\n",
    "\n",
    "conf = pyspark.SparkConf().setAppName('app').setMaster('local[2]')\n",
    "sc = pyspark.SparkContext(conf=conf)\n",
    "\n",
    "sc.setSystemProperty('spark.executor.memory','12g')\n",
    "spark = SparkSession(sc)\n",
    "\"created spark session\"\n",
    "sc.version"
   ]
  },
  {
   "cell_type": "code",
   "execution_count": 26,
   "metadata": {},
   "outputs": [
    {
     "name": "stdout",
     "output_type": "stream",
     "text": [
      "-RECORD 0-------------------------------------------------------\n",
      " baseline value                                         | 120.0 \n",
      " accelerations                                          | 0.0   \n",
      " fetal_movement                                         | 0.0   \n",
      " uterine_contractions                                   | 0.0   \n",
      " light_decelerations                                    | 0.0   \n",
      " severe_decelerations                                   | 0.0   \n",
      " prolongued_decelerations                               | 0.0   \n",
      " abnormal_short_term_variability                        | 73.0  \n",
      " mean_value_of_short_term_variability                   | 0.5   \n",
      " percentage_of_time_with_abnormal_long_term_variability | 43.0  \n",
      " mean_value_of_long_term_variability                    | 2.4   \n",
      " histogram_width                                        | 64.0  \n",
      " histogram_min                                          | 62.0  \n",
      " histogram_max                                          | 126.0 \n",
      " histogram_number_of_peaks                              | 2.0   \n",
      " histogram_number_of_zeroes                             | 0.0   \n",
      " histogram_mode                                         | 120.0 \n",
      " histogram_mean                                         | 137.0 \n",
      " histogram_median                                       | 121.0 \n",
      " histogram_variance                                     | 73.0  \n",
      " histogram_tendency                                     | 1.0   \n",
      " fetal_health                                           | 2.0   \n",
      "only showing top 1 row\n",
      "\n"
     ]
    }
   ],
   "source": [
    "#read in fetal health data\n",
    "#p = pd.read_csv(\"diabetes.csv\")\n",
    "data = spark.read.load(\"../DATA699/fetal_health.csv\",\n",
    "                     format=\"csv\", sep=\",\", inferSchema=\"true\", header=\"true\")\n",
    "\n",
    "#data.printSchema()\n",
    "data.show(vertical=True,n=1)"
   ]
  },
  {
   "cell_type": "code",
   "execution_count": 23,
   "metadata": {},
   "outputs": [
    {
     "data": {
      "text/plain": [
       "{'baseline value': 0,\n",
       " 'accelerations': 0,\n",
       " 'fetal_movement': 0,\n",
       " 'uterine_contractions': 0,\n",
       " 'light_decelerations': 0,\n",
       " 'severe_decelerations': 0,\n",
       " 'prolongued_decelerations': 0,\n",
       " 'abnormal_short_term_variability': 0,\n",
       " 'mean_value_of_short_term_variability': 0,\n",
       " 'percentage_of_time_with_abnormal_long_term_variability': 0,\n",
       " 'mean_value_of_long_term_variability': 0,\n",
       " 'histogram_width': 0,\n",
       " 'histogram_min': 0,\n",
       " 'histogram_max': 0,\n",
       " 'histogram_number_of_peaks': 0,\n",
       " 'histogram_number_of_zeroes': 0,\n",
       " 'histogram_mode': 0,\n",
       " 'histogram_mean': 0,\n",
       " 'histogram_median': 0,\n",
       " 'histogram_variance': 0,\n",
       " 'histogram_tendency': 0,\n",
       " 'fetal_health': 0}"
      ]
     },
     "execution_count": 23,
     "metadata": {},
     "output_type": "execute_result"
    }
   ],
   "source": [
    "missingdata = {col:data.filter(data[col].isNull()).count() for col in data.columns}\n",
    "missingdata\n",
    "#No missing data"
   ]
  },
  {
   "cell_type": "code",
   "execution_count": null,
   "metadata": {},
   "outputs": [],
   "source": [
    "# histograms"
   ]
  }
 ],
 "metadata": {
  "kernelspec": {
   "display_name": "Python 3",
   "language": "python",
   "name": "python3"
  },
  "language_info": {
   "codemirror_mode": {
    "name": "ipython",
    "version": 3
   },
   "file_extension": ".py",
   "mimetype": "text/x-python",
   "name": "python",
   "nbconvert_exporter": "python",
   "pygments_lexer": "ipython3",
   "version": "3.8.5"
  }
 },
 "nbformat": 4,
 "nbformat_minor": 4
}
